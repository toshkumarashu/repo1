{
  "nbformat": 4,
  "nbformat_minor": 0,
  "metadata": {
    "colab": {
      "provenance": [],
      "mount_file_id": "1iayJj-0KcVyO0FZSR1gvExzcKubLNF12",
      "authorship_tag": "ABX9TyMABWTE116R4z+Cskb5/wrq",
      "include_colab_link": true
    },
    "kernelspec": {
      "name": "python3",
      "display_name": "Python 3"
    },
    "language_info": {
      "name": "python"
    }
  },
  "cells": [
    {
      "cell_type": "markdown",
      "metadata": {
        "id": "view-in-github",
        "colab_type": "text"
      },
      "source": [
        "<a href=\"https://colab.research.google.com/github/toshkumarashu/repo1/blob/master/LSTM_implementation.ipynb\" target=\"_parent\"><img src=\"https://colab.research.google.com/assets/colab-badge.svg\" alt=\"Open In Colab\"/></a>"
      ]
    },
    {
      "cell_type": "code",
      "execution_count": null,
      "metadata": {
        "id": "sKzxnU6bY54n"
      },
      "outputs": [],
      "source": [
        "import pandas as pd\n",
        "import matplotlib.pyplot as plt\n",
        "import numpy as np\n",
        "import math\n",
        "from sklearn.preprocessing import MinMaxScaler\n",
        "from sklearn.metrics import mean_squared_error\n",
        "from keras.models import Sequential\n",
        "from keras.layers import Dense, Activation\n",
        "from keras.layers import LSTM"
      ]
    },
    {
      "cell_type": "code",
      "source": [
        "from google.colab import drive\n",
        "drive.mount('/content/drive')"
      ],
      "metadata": {
        "colab": {
          "base_uri": "https://localhost:8080/"
        },
        "id": "GVirSjS3ao1d",
        "outputId": "fb2f8574-8728-40fd-e782-47726a187b78"
      },
      "execution_count": null,
      "outputs": [
        {
          "output_type": "stream",
          "name": "stdout",
          "text": [
            "Drive already mounted at /content/drive; to attempt to forcibly remount, call drive.mount(\"/content/drive\", force_remount=True).\n"
          ]
        }
      ]
    },
    {
      "cell_type": "code",
      "source": [
        "dataset = pd.read_csv('/content/drive/MyDrive/apple_share_price(3).csv',usecols=[1,2,3,4])\n",
        "dataset = dataset.reindex(index = dataset.index[::-1])\n",
        "print(dataset)"
      ],
      "metadata": {
        "colab": {
          "base_uri": "https://localhost:8080/"
        },
        "id": "hDzE8_Xzd_Tt",
        "outputId": "9de1f91d-54f2-4b07-eacc-6a81d8d03e85"
      },
      "execution_count": null,
      "outputs": [
        {
          "output_type": "stream",
          "name": "stdout",
          "text": [
            "        Open    High     Low   Close\n",
            "1663   46.52   47.18   46.41   47.08\n",
            "1662   47.49   47.50   46.88   47.33\n",
            "1661   47.08   47.76   47.07   47.71\n",
            "1660   47.82   47.89   47.56   47.68\n",
            "1659   47.71   48.05   47.41   48.02\n",
            "...      ...     ...     ...     ...\n",
            "4     157.06  158.92  156.67  158.81\n",
            "3     158.60  161.83  158.27  160.08\n",
            "2     159.26  161.27  159.11  161.06\n",
            "1     159.90  160.00  154.63  155.32\n",
            "0     156.60  158.57  156.07  157.48\n",
            "\n",
            "[1664 rows x 4 columns]\n"
          ]
        }
      ]
    },
    {
      "cell_type": "code",
      "source": [
        "dataset.shape\n",
        "dataset = dataset.values\n",
        "dataset = dataset.astype('float32')"
      ],
      "metadata": {
        "id": "0TzV-N6PeNtM"
      },
      "execution_count": null,
      "outputs": []
    },
    {
      "cell_type": "code",
      "source": [
        "# normalize the dataset\n",
        "scaler = MinMaxScaler(feature_range=(0, 1))\n",
        "dataset = scaler.fit_transform(dataset)"
      ],
      "metadata": {
        "id": "5UkPQrxAeQKc"
      },
      "execution_count": null,
      "outputs": []
    },
    {
      "cell_type": "code",
      "source": [
        "# split into train and test sets\n",
        "train_size = int(len(dataset) * 0.67)\n",
        "test_size = len(dataset) - train_size\n",
        "train, test =dataset[0:train_size,:],dataset[train_size:len(dataset),:]"
      ],
      "metadata": {
        "id": "ps1Zbt9_eSij"
      },
      "execution_count": null,
      "outputs": []
    },
    {
      "cell_type": "code",
      "source": [
        "# split a multivariate sequence into samples\n",
        "def create_dataset(sequences, n_steps):\n",
        "  X, y = list(), list()\n",
        "  for i in range(len(sequences)):\n",
        "    # find the end of this pattern\n",
        "    end_ix = i + n_steps\n",
        "    # check if we are beyond the dataset\n",
        "    if end_ix > len(sequences)-1:\n",
        "      break\n",
        "    # gather input and output parts of the pattern\n",
        "    seq_x, seq_y = sequences[i:end_ix, :], sequences[end_ix, :]\n",
        "    X.append(seq_x)\n",
        "    y.append(seq_y)\n",
        "  return np.array(X), np.array(y)"
      ],
      "metadata": {
        "id": "yHrnQrCjeYhe"
      },
      "execution_count": null,
      "outputs": []
    },
    {
      "cell_type": "code",
      "source": [
        "# reshape into X=t and Y=t+1\n",
        "look_back = 2\n",
        "trainX, trainY = create_dataset(train, look_back)\n",
        "testX, testY = create_dataset(test, look_back)\n",
        "print(trainX.shape)"
      ],
      "metadata": {
        "colab": {
          "base_uri": "https://localhost:8080/"
        },
        "id": "pOX8AMzVeymD",
        "outputId": "c43e586a-4190-4973-ac15-25ad2088b095"
      },
      "execution_count": null,
      "outputs": [
        {
          "output_type": "stream",
          "name": "stdout",
          "text": [
            "(1112, 2, 4)\n"
          ]
        }
      ]
    },
    {
      "cell_type": "code",
      "source": [
        "# define model\n",
        "n_features = trainX.shape[2]\n",
        "model = Sequential()\n",
        "model.add(LSTM(100, activation='relu', return_sequences=True,input_shape=(look_back, n_features)))\n",
        "model.add(LSTM(256, activation='relu'))\n",
        "model.add(Dense(n_features))\n",
        "model.compile(optimizer='adam', loss='mse')\n",
        "model.summary()"
      ],
      "metadata": {
        "colab": {
          "base_uri": "https://localhost:8080/",
          "height": 280
        },
        "id": "oj_FTDZ8e1jW",
        "outputId": "27a22c3b-34fe-4890-cd2f-94e85a5683fc"
      },
      "execution_count": null,
      "outputs": [
        {
          "output_type": "stream",
          "name": "stderr",
          "text": [
            "/usr/local/lib/python3.10/dist-packages/keras/src/layers/rnn/rnn.py:204: UserWarning: Do not pass an `input_shape`/`input_dim` argument to a layer. When using Sequential models, prefer using an `Input(shape)` object as the first layer in the model instead.\n",
            "  super().__init__(**kwargs)\n"
          ]
        },
        {
          "output_type": "display_data",
          "data": {
            "text/plain": [
              "\u001b[1mModel: \"sequential\"\u001b[0m\n"
            ],
            "text/html": [
              "<pre style=\"white-space:pre;overflow-x:auto;line-height:normal;font-family:Menlo,'DejaVu Sans Mono',consolas,'Courier New',monospace\"><span style=\"font-weight: bold\">Model: \"sequential\"</span>\n",
              "</pre>\n"
            ]
          },
          "metadata": {}
        },
        {
          "output_type": "display_data",
          "data": {
            "text/plain": [
              "┏━━━━━━━━━━━━━━━━━━━━━━━━━━━━━━━━━━━━━━┳━━━━━━━━━━━━━━━━━━━━━━━━━━━━━┳━━━━━━━━━━━━━━━━━┓\n",
              "┃\u001b[1m \u001b[0m\u001b[1mLayer (type)                        \u001b[0m\u001b[1m \u001b[0m┃\u001b[1m \u001b[0m\u001b[1mOutput Shape               \u001b[0m\u001b[1m \u001b[0m┃\u001b[1m \u001b[0m\u001b[1m        Param #\u001b[0m\u001b[1m \u001b[0m┃\n",
              "┡━━━━━━━━━━━━━━━━━━━━━━━━━━━━━━━━━━━━━━╇━━━━━━━━━━━━━━━━━━━━━━━━━━━━━╇━━━━━━━━━━━━━━━━━┩\n",
              "│ lstm (\u001b[38;5;33mLSTM\u001b[0m)                          │ (\u001b[38;5;45mNone\u001b[0m, \u001b[38;5;34m2\u001b[0m, \u001b[38;5;34m100\u001b[0m)              │          \u001b[38;5;34m42,000\u001b[0m │\n",
              "├──────────────────────────────────────┼─────────────────────────────┼─────────────────┤\n",
              "│ lstm_1 (\u001b[38;5;33mLSTM\u001b[0m)                        │ (\u001b[38;5;45mNone\u001b[0m, \u001b[38;5;34m256\u001b[0m)                 │         \u001b[38;5;34m365,568\u001b[0m │\n",
              "├──────────────────────────────────────┼─────────────────────────────┼─────────────────┤\n",
              "│ dense (\u001b[38;5;33mDense\u001b[0m)                        │ (\u001b[38;5;45mNone\u001b[0m, \u001b[38;5;34m4\u001b[0m)                   │           \u001b[38;5;34m1,028\u001b[0m │\n",
              "└──────────────────────────────────────┴─────────────────────────────┴─────────────────┘\n"
            ],
            "text/html": [
              "<pre style=\"white-space:pre;overflow-x:auto;line-height:normal;font-family:Menlo,'DejaVu Sans Mono',consolas,'Courier New',monospace\">┏━━━━━━━━━━━━━━━━━━━━━━━━━━━━━━━━━━━━━━┳━━━━━━━━━━━━━━━━━━━━━━━━━━━━━┳━━━━━━━━━━━━━━━━━┓\n",
              "┃<span style=\"font-weight: bold\"> Layer (type)                         </span>┃<span style=\"font-weight: bold\"> Output Shape                </span>┃<span style=\"font-weight: bold\">         Param # </span>┃\n",
              "┡━━━━━━━━━━━━━━━━━━━━━━━━━━━━━━━━━━━━━━╇━━━━━━━━━━━━━━━━━━━━━━━━━━━━━╇━━━━━━━━━━━━━━━━━┩\n",
              "│ lstm (<span style=\"color: #0087ff; text-decoration-color: #0087ff\">LSTM</span>)                          │ (<span style=\"color: #00d7ff; text-decoration-color: #00d7ff\">None</span>, <span style=\"color: #00af00; text-decoration-color: #00af00\">2</span>, <span style=\"color: #00af00; text-decoration-color: #00af00\">100</span>)              │          <span style=\"color: #00af00; text-decoration-color: #00af00\">42,000</span> │\n",
              "├──────────────────────────────────────┼─────────────────────────────┼─────────────────┤\n",
              "│ lstm_1 (<span style=\"color: #0087ff; text-decoration-color: #0087ff\">LSTM</span>)                        │ (<span style=\"color: #00d7ff; text-decoration-color: #00d7ff\">None</span>, <span style=\"color: #00af00; text-decoration-color: #00af00\">256</span>)                 │         <span style=\"color: #00af00; text-decoration-color: #00af00\">365,568</span> │\n",
              "├──────────────────────────────────────┼─────────────────────────────┼─────────────────┤\n",
              "│ dense (<span style=\"color: #0087ff; text-decoration-color: #0087ff\">Dense</span>)                        │ (<span style=\"color: #00d7ff; text-decoration-color: #00d7ff\">None</span>, <span style=\"color: #00af00; text-decoration-color: #00af00\">4</span>)                   │           <span style=\"color: #00af00; text-decoration-color: #00af00\">1,028</span> │\n",
              "└──────────────────────────────────────┴─────────────────────────────┴─────────────────┘\n",
              "</pre>\n"
            ]
          },
          "metadata": {}
        },
        {
          "output_type": "display_data",
          "data": {
            "text/plain": [
              "\u001b[1m Total params: \u001b[0m\u001b[38;5;34m408,596\u001b[0m (1.56 MB)\n"
            ],
            "text/html": [
              "<pre style=\"white-space:pre;overflow-x:auto;line-height:normal;font-family:Menlo,'DejaVu Sans Mono',consolas,'Courier New',monospace\"><span style=\"font-weight: bold\"> Total params: </span><span style=\"color: #00af00; text-decoration-color: #00af00\">408,596</span> (1.56 MB)\n",
              "</pre>\n"
            ]
          },
          "metadata": {}
        },
        {
          "output_type": "display_data",
          "data": {
            "text/plain": [
              "\u001b[1m Trainable params: \u001b[0m\u001b[38;5;34m408,596\u001b[0m (1.56 MB)\n"
            ],
            "text/html": [
              "<pre style=\"white-space:pre;overflow-x:auto;line-height:normal;font-family:Menlo,'DejaVu Sans Mono',consolas,'Courier New',monospace\"><span style=\"font-weight: bold\"> Trainable params: </span><span style=\"color: #00af00; text-decoration-color: #00af00\">408,596</span> (1.56 MB)\n",
              "</pre>\n"
            ]
          },
          "metadata": {}
        },
        {
          "output_type": "display_data",
          "data": {
            "text/plain": [
              "\u001b[1m Non-trainable params: \u001b[0m\u001b[38;5;34m0\u001b[0m (0.00 B)\n"
            ],
            "text/html": [
              "<pre style=\"white-space:pre;overflow-x:auto;line-height:normal;font-family:Menlo,'DejaVu Sans Mono',consolas,'Courier New',monospace\"><span style=\"font-weight: bold\"> Non-trainable params: </span><span style=\"color: #00af00; text-decoration-color: #00af00\">0</span> (0.00 B)\n",
              "</pre>\n"
            ]
          },
          "metadata": {}
        }
      ]
    },
    {
      "cell_type": "code",
      "source": [
        "model.fit(trainX, trainY, validation_data=(testX, testY),epochs=100, batch_size=100, verbose=2)"
      ],
      "metadata": {
        "colab": {
          "base_uri": "https://localhost:8080/"
        },
        "id": "I2bSscoqe7fB",
        "outputId": "d7a5f4e1-e9fc-453b-a4a9-03299047a621"
      },
      "execution_count": null,
      "outputs": [
        {
          "output_type": "stream",
          "name": "stdout",
          "text": [
            "Epoch 1/100\n",
            "12/12 - 4s - 355ms/step - loss: 0.1081 - val_loss: 0.3219\n",
            "Epoch 2/100\n",
            "12/12 - 0s - 39ms/step - loss: 0.0623 - val_loss: 0.1148\n",
            "Epoch 3/100\n",
            "12/12 - 1s - 63ms/step - loss: 0.0156 - val_loss: 0.0045\n",
            "Epoch 4/100\n",
            "12/12 - 0s - 25ms/step - loss: 0.0079 - val_loss: 0.0195\n",
            "Epoch 5/100\n",
            "12/12 - 1s - 42ms/step - loss: 0.0043 - val_loss: 0.0017\n",
            "Epoch 6/100\n",
            "12/12 - 0s - 27ms/step - loss: 0.0011 - val_loss: 0.0020\n",
            "Epoch 7/100\n",
            "12/12 - 1s - 73ms/step - loss: 5.2716e-04 - val_loss: 0.0027\n",
            "Epoch 8/100\n",
            "12/12 - 1s - 43ms/step - loss: 2.9321e-04 - val_loss: 0.0019\n",
            "Epoch 9/100\n",
            "12/12 - 1s - 52ms/step - loss: 2.4806e-04 - val_loss: 0.0014\n",
            "Epoch 10/100\n",
            "12/12 - 0s - 39ms/step - loss: 2.2365e-04 - val_loss: 0.0014\n",
            "Epoch 11/100\n",
            "12/12 - 1s - 56ms/step - loss: 2.1473e-04 - val_loss: 0.0013\n",
            "Epoch 12/100\n",
            "12/12 - 1s - 42ms/step - loss: 2.0966e-04 - val_loss: 0.0011\n",
            "Epoch 13/100\n",
            "12/12 - 1s - 59ms/step - loss: 2.0954e-04 - val_loss: 0.0011\n",
            "Epoch 14/100\n",
            "12/12 - 0s - 37ms/step - loss: 2.0784e-04 - val_loss: 0.0012\n",
            "Epoch 15/100\n",
            "12/12 - 0s - 40ms/step - loss: 2.0373e-04 - val_loss: 0.0011\n",
            "Epoch 16/100\n",
            "12/12 - 0s - 27ms/step - loss: 1.9871e-04 - val_loss: 0.0010\n",
            "Epoch 17/100\n",
            "12/12 - 0s - 26ms/step - loss: 1.9649e-04 - val_loss: 0.0011\n",
            "Epoch 18/100\n",
            "12/12 - 1s - 52ms/step - loss: 2.0154e-04 - val_loss: 9.0611e-04\n",
            "Epoch 19/100\n",
            "12/12 - 1s - 51ms/step - loss: 1.9443e-04 - val_loss: 8.1018e-04\n",
            "Epoch 20/100\n",
            "12/12 - 0s - 26ms/step - loss: 1.9615e-04 - val_loss: 8.0903e-04\n",
            "Epoch 21/100\n",
            "12/12 - 0s - 25ms/step - loss: 1.9116e-04 - val_loss: 8.3425e-04\n",
            "Epoch 22/100\n",
            "12/12 - 0s - 26ms/step - loss: 1.8991e-04 - val_loss: 8.5034e-04\n",
            "Epoch 23/100\n",
            "12/12 - 0s - 25ms/step - loss: 1.8718e-04 - val_loss: 7.5321e-04\n",
            "Epoch 24/100\n",
            "12/12 - 0s - 27ms/step - loss: 1.8860e-04 - val_loss: 6.7033e-04\n",
            "Epoch 25/100\n",
            "12/12 - 0s - 27ms/step - loss: 1.9065e-04 - val_loss: 7.0387e-04\n",
            "Epoch 26/100\n",
            "12/12 - 1s - 50ms/step - loss: 1.8764e-04 - val_loss: 7.6514e-04\n",
            "Epoch 27/100\n",
            "12/12 - 0s - 25ms/step - loss: 1.8651e-04 - val_loss: 6.8064e-04\n",
            "Epoch 28/100\n",
            "12/12 - 0s - 27ms/step - loss: 1.8600e-04 - val_loss: 6.9804e-04\n",
            "Epoch 29/100\n",
            "12/12 - 1s - 52ms/step - loss: 1.8449e-04 - val_loss: 6.4918e-04\n",
            "Epoch 30/100\n",
            "12/12 - 0s - 27ms/step - loss: 1.8455e-04 - val_loss: 6.3427e-04\n",
            "Epoch 31/100\n",
            "12/12 - 0s - 27ms/step - loss: 1.8338e-04 - val_loss: 6.5392e-04\n",
            "Epoch 32/100\n",
            "12/12 - 0s - 25ms/step - loss: 1.8245e-04 - val_loss: 6.5577e-04\n",
            "Epoch 33/100\n",
            "12/12 - 0s - 27ms/step - loss: 1.8139e-04 - val_loss: 6.1038e-04\n",
            "Epoch 34/100\n",
            "12/12 - 1s - 50ms/step - loss: 1.8163e-04 - val_loss: 6.7554e-04\n",
            "Epoch 35/100\n",
            "12/12 - 0s - 25ms/step - loss: 1.8382e-04 - val_loss: 5.3595e-04\n",
            "Epoch 36/100\n",
            "12/12 - 0s - 27ms/step - loss: 1.8591e-04 - val_loss: 6.6372e-04\n",
            "Epoch 37/100\n",
            "12/12 - 1s - 54ms/step - loss: 1.8345e-04 - val_loss: 6.7206e-04\n",
            "Epoch 38/100\n",
            "12/12 - 0s - 31ms/step - loss: 1.8273e-04 - val_loss: 5.4714e-04\n",
            "Epoch 39/100\n",
            "12/12 - 1s - 61ms/step - loss: 1.8107e-04 - val_loss: 6.3659e-04\n",
            "Epoch 40/100\n",
            "12/12 - 1s - 42ms/step - loss: 1.8364e-04 - val_loss: 5.6761e-04\n",
            "Epoch 41/100\n",
            "12/12 - 1s - 60ms/step - loss: 1.8055e-04 - val_loss: 5.4814e-04\n",
            "Epoch 42/100\n",
            "12/12 - 1s - 43ms/step - loss: 1.8023e-04 - val_loss: 5.3209e-04\n",
            "Epoch 43/100\n",
            "12/12 - 1s - 61ms/step - loss: 1.7954e-04 - val_loss: 5.6154e-04\n",
            "Epoch 44/100\n",
            "12/12 - 1s - 43ms/step - loss: 1.7761e-04 - val_loss: 5.5640e-04\n",
            "Epoch 45/100\n",
            "12/12 - 1s - 58ms/step - loss: 1.7829e-04 - val_loss: 4.5758e-04\n",
            "Epoch 46/100\n",
            "12/12 - 0s - 32ms/step - loss: 1.7987e-04 - val_loss: 5.7292e-04\n",
            "Epoch 47/100\n",
            "12/12 - 1s - 49ms/step - loss: 1.7766e-04 - val_loss: 4.8575e-04\n",
            "Epoch 48/100\n",
            "12/12 - 0s - 25ms/step - loss: 1.7764e-04 - val_loss: 4.8789e-04\n",
            "Epoch 49/100\n",
            "12/12 - 1s - 52ms/step - loss: 1.7858e-04 - val_loss: 4.5651e-04\n",
            "Epoch 50/100\n",
            "12/12 - 0s - 26ms/step - loss: 1.7578e-04 - val_loss: 5.1824e-04\n",
            "Epoch 51/100\n",
            "12/12 - 1s - 52ms/step - loss: 1.7659e-04 - val_loss: 4.6940e-04\n",
            "Epoch 52/100\n",
            "12/12 - 1s - 51ms/step - loss: 1.7407e-04 - val_loss: 4.9175e-04\n",
            "Epoch 53/100\n",
            "12/12 - 0s - 28ms/step - loss: 1.7551e-04 - val_loss: 4.8942e-04\n",
            "Epoch 54/100\n",
            "12/12 - 1s - 49ms/step - loss: 1.7635e-04 - val_loss: 4.0427e-04\n",
            "Epoch 55/100\n",
            "12/12 - 0s - 29ms/step - loss: 1.9490e-04 - val_loss: 4.0336e-04\n",
            "Epoch 56/100\n",
            "12/12 - 1s - 48ms/step - loss: 1.8133e-04 - val_loss: 4.0668e-04\n",
            "Epoch 57/100\n",
            "12/12 - 0s - 27ms/step - loss: 1.7745e-04 - val_loss: 4.5124e-04\n",
            "Epoch 58/100\n",
            "12/12 - 0s - 25ms/step - loss: 1.7346e-04 - val_loss: 4.3195e-04\n",
            "Epoch 59/100\n",
            "12/12 - 0s - 25ms/step - loss: 1.7351e-04 - val_loss: 5.2420e-04\n",
            "Epoch 60/100\n",
            "12/12 - 1s - 54ms/step - loss: 1.7244e-04 - val_loss: 4.4559e-04\n",
            "Epoch 61/100\n",
            "12/12 - 1s - 51ms/step - loss: 1.7348e-04 - val_loss: 5.0936e-04\n",
            "Epoch 62/100\n",
            "12/12 - 1s - 52ms/step - loss: 1.7127e-04 - val_loss: 4.5271e-04\n",
            "Epoch 63/100\n",
            "12/12 - 1s - 52ms/step - loss: 1.6906e-04 - val_loss: 5.3035e-04\n",
            "Epoch 64/100\n",
            "12/12 - 0s - 25ms/step - loss: 1.7141e-04 - val_loss: 4.7639e-04\n",
            "Epoch 65/100\n",
            "12/12 - 0s - 26ms/step - loss: 1.8230e-04 - val_loss: 5.3316e-04\n",
            "Epoch 66/100\n",
            "12/12 - 0s - 27ms/step - loss: 1.7462e-04 - val_loss: 3.8411e-04\n",
            "Epoch 67/100\n",
            "12/12 - 1s - 64ms/step - loss: 1.7167e-04 - val_loss: 4.4006e-04\n",
            "Epoch 68/100\n",
            "12/12 - 0s - 41ms/step - loss: 1.7131e-04 - val_loss: 4.2204e-04\n",
            "Epoch 69/100\n",
            "12/12 - 1s - 43ms/step - loss: 1.6929e-04 - val_loss: 5.0390e-04\n",
            "Epoch 70/100\n",
            "12/12 - 0s - 41ms/step - loss: 1.6680e-04 - val_loss: 3.6013e-04\n",
            "Epoch 71/100\n",
            "12/12 - 0s - 41ms/step - loss: 1.6758e-04 - val_loss: 5.2220e-04\n",
            "Epoch 72/100\n",
            "12/12 - 1s - 52ms/step - loss: 1.8912e-04 - val_loss: 4.9453e-04\n",
            "Epoch 73/100\n",
            "12/12 - 1s - 54ms/step - loss: 1.8320e-04 - val_loss: 3.5623e-04\n",
            "Epoch 74/100\n",
            "12/12 - 1s - 56ms/step - loss: 1.7353e-04 - val_loss: 3.6210e-04\n",
            "Epoch 75/100\n",
            "12/12 - 0s - 26ms/step - loss: 1.6597e-04 - val_loss: 3.9595e-04\n",
            "Epoch 76/100\n",
            "12/12 - 0s - 26ms/step - loss: 1.6003e-04 - val_loss: 3.5321e-04\n",
            "Epoch 77/100\n",
            "12/12 - 1s - 51ms/step - loss: 1.6640e-04 - val_loss: 3.6692e-04\n",
            "Epoch 78/100\n",
            "12/12 - 0s - 25ms/step - loss: 1.6220e-04 - val_loss: 3.5411e-04\n",
            "Epoch 79/100\n",
            "12/12 - 0s - 26ms/step - loss: 1.5789e-04 - val_loss: 3.7720e-04\n",
            "Epoch 80/100\n",
            "12/12 - 0s - 27ms/step - loss: 1.7023e-04 - val_loss: 3.2815e-04\n",
            "Epoch 81/100\n",
            "12/12 - 1s - 52ms/step - loss: 1.6061e-04 - val_loss: 4.4102e-04\n",
            "Epoch 82/100\n",
            "12/12 - 0s - 27ms/step - loss: 1.6072e-04 - val_loss: 3.4744e-04\n",
            "Epoch 83/100\n",
            "12/12 - 0s - 25ms/step - loss: 1.5579e-04 - val_loss: 4.2036e-04\n",
            "Epoch 84/100\n",
            "12/12 - 0s - 26ms/step - loss: 1.6876e-04 - val_loss: 3.3881e-04\n",
            "Epoch 85/100\n",
            "12/12 - 1s - 51ms/step - loss: 1.9711e-04 - val_loss: 3.1201e-04\n",
            "Epoch 86/100\n",
            "12/12 - 0s - 25ms/step - loss: 1.6573e-04 - val_loss: 5.0191e-04\n",
            "Epoch 87/100\n",
            "12/12 - 0s - 28ms/step - loss: 1.5869e-04 - val_loss: 3.3683e-04\n",
            "Epoch 88/100\n",
            "12/12 - 1s - 50ms/step - loss: 1.5616e-04 - val_loss: 3.3739e-04\n",
            "Epoch 89/100\n",
            "12/12 - 1s - 52ms/step - loss: 1.5034e-04 - val_loss: 4.2829e-04\n",
            "Epoch 90/100\n",
            "12/12 - 0s - 26ms/step - loss: 1.6325e-04 - val_loss: 2.9718e-04\n",
            "Epoch 91/100\n",
            "12/12 - 0s - 27ms/step - loss: 1.5471e-04 - val_loss: 3.7705e-04\n",
            "Epoch 92/100\n",
            "12/12 - 1s - 87ms/step - loss: 1.5364e-04 - val_loss: 4.1538e-04\n",
            "Epoch 93/100\n",
            "12/12 - 1s - 57ms/step - loss: 1.5224e-04 - val_loss: 4.3326e-04\n",
            "Epoch 94/100\n",
            "12/12 - 1s - 57ms/step - loss: 1.5689e-04 - val_loss: 3.1576e-04\n",
            "Epoch 95/100\n",
            "12/12 - 1s - 88ms/step - loss: 1.5303e-04 - val_loss: 3.1699e-04\n",
            "Epoch 96/100\n",
            "12/12 - 1s - 59ms/step - loss: 1.5413e-04 - val_loss: 4.2509e-04\n",
            "Epoch 97/100\n",
            "12/12 - 0s - 41ms/step - loss: 1.5288e-04 - val_loss: 2.8485e-04\n",
            "Epoch 98/100\n",
            "12/12 - 1s - 53ms/step - loss: 1.4319e-04 - val_loss: 3.3967e-04\n",
            "Epoch 99/100\n",
            "12/12 - 1s - 57ms/step - loss: 1.4116e-04 - val_loss: 3.0750e-04\n",
            "Epoch 100/100\n",
            "12/12 - 1s - 47ms/step - loss: 1.4060e-04 - val_loss: 3.1076e-04\n"
          ]
        },
        {
          "output_type": "execute_result",
          "data": {
            "text/plain": [
              "<keras.src.callbacks.history.History at 0x7f2bfb115fc0>"
            ]
          },
          "metadata": {},
          "execution_count": 15
        }
      ]
    },
    {
      "cell_type": "code",
      "source": [
        "trainPredict = model.predict(trainX)\n",
        "testPredict = model.predict(testX, verbose=1)\n",
        "print(testPredict)"
      ],
      "metadata": {
        "colab": {
          "base_uri": "https://localhost:8080/"
        },
        "id": "EAkwzGkFfPaK",
        "outputId": "773a348a-c19f-40d0-e067-6c28fdcf73c5"
      },
      "execution_count": null,
      "outputs": [
        {
          "output_type": "stream",
          "name": "stdout",
          "text": [
            "\u001b[1m35/35\u001b[0m \u001b[32m━━━━━━━━━━━━━━━━━━━━\u001b[0m\u001b[37m\u001b[0m \u001b[1m1s\u001b[0m 13ms/step\n",
            "\u001b[1m18/18\u001b[0m \u001b[32m━━━━━━━━━━━━━━━━━━━━\u001b[0m\u001b[37m\u001b[0m \u001b[1m0s\u001b[0m 5ms/step\n",
            "[[0.7259688  0.72118276 0.72072107 0.7152481 ]\n",
            " [0.73369026 0.72905296 0.728603   0.7233658 ]\n",
            " [0.7275671  0.72333443 0.72279835 0.7179396 ]\n",
            " ...\n",
            " [1.0292661  1.0222168  1.0211221  1.0170808 ]\n",
            " [1.041008   1.0341585  1.0330436  1.0293257 ]\n",
            " [1.02046    1.0148256  1.0137627  1.0109656 ]]\n"
          ]
        }
      ]
    },
    {
      "cell_type": "code",
      "source": [
        "# invert predictions\n",
        "trainPredict = scaler.inverse_transform(trainPredict)\n",
        "trainY = scaler.inverse_transform(trainY)\n",
        "testPredict = scaler.inverse_transform(testPredict)\n",
        "testY = scaler.inverse_transform(testY)"
      ],
      "metadata": {
        "id": "XO2MHadxfXRg"
      },
      "execution_count": null,
      "outputs": []
    },
    {
      "cell_type": "code",
      "source": [
        "# calculate root mean squared error\n",
        "trainScore = math.sqrt(mean_squared_error(trainY,\n",
        "trainPredict))\n",
        "print('Train Score: %.2f RMSE' % (trainScore))\n",
        "testScore = math.sqrt(mean_squared_error(testY, testPredict))\n",
        "print('Test Score: %.2f RMSE' % (testScore))"
      ],
      "metadata": {
        "colab": {
          "base_uri": "https://localhost:8080/"
        },
        "id": "sVE_MlC3fZyU",
        "outputId": "67594a98-e5f7-490d-b141-fb601a2fbb52"
      },
      "execution_count": null,
      "outputs": [
        {
          "output_type": "stream",
          "name": "stdout",
          "text": [
            "Train Score: 1.36 RMSE\n",
            "Test Score: 2.04 RMSE\n"
          ]
        }
      ]
    },
    {
      "cell_type": "code",
      "source": [
        "# shift train predictions for plotting\n",
        "trainPredictPlot = np.empty_like(dataset)\n",
        "trainPredictPlot[:, :] = np.nan\n",
        "trainPredictPlot[look_back:len(trainPredict)+look_back, :] =trainPredict"
      ],
      "metadata": {
        "id": "PApIKRDkfefY"
      },
      "execution_count": null,
      "outputs": []
    },
    {
      "cell_type": "code",
      "source": [
        "# shift test predictions for plotting\n",
        "testPredictPlot = np.empty_like(dataset)\n",
        "testPredictPlot[:, :] = np.nan\n",
        "testPredictPlot[len(trainPredict)+(look_back*2):len(dataset),:] = testPredict"
      ],
      "metadata": {
        "id": "3bvPHOcrfi0T"
      },
      "execution_count": null,
      "outputs": []
    },
    {
      "cell_type": "code",
      "source": [
        "# plot baseline and predictions\n",
        "plt.plot(scaler.inverse_transform(dataset))\n",
        "plt.plot(trainPredictPlot)\n",
        "plt.plot(testPredictPlot)\n",
        "plt.show()"
      ],
      "metadata": {
        "id": "9qQxoh3xfmhL",
        "outputId": "930c6e64-ee4f-4921-a2b3-b0fe6d00219f",
        "colab": {
          "base_uri": "https://localhost:8080/",
          "height": 430
        }
      },
      "execution_count": null,
      "outputs": [
        {
          "output_type": "display_data",
          "data": {
            "text/plain": [
              "<Figure size 640x480 with 1 Axes>"
            ],
            "image/png": "[encoded data removed]"
          },
          "metadata": {}
        }
      ]
    }
  ]
}